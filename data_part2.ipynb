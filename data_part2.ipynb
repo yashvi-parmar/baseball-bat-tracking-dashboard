{
 "cells": [
  {
   "cell_type": "code",
   "execution_count": null,
   "id": "b230830e-b173-4ded-907f-c88cd3caa319",
   "metadata": {},
   "outputs": [],
   "source": [
    "import pandas as pd\n",
    "import matplotlib.pyplot as plt\n",
    "import ast\n",
    "import numpy as np\n",
    "import seaborn as sns\n",
    "import plotly.express as px\n",
    "from math import sqrt\n",
    "import re"
   ]
  },
  {
   "cell_type": "code",
   "execution_count": null,
   "id": "0e4f9ee9-d6c2-4b04-8540-f45e7b510b11",
   "metadata": {},
   "outputs": [],
   "source": [
    "bat = pd.read_csv('bat.csv', index_col=0)\n",
    "events = pd.read_csv('events.csv', index_col=0)\n",
    "summary = pd.read_csv('summary_acts.csv', index_col=0)\n",
    "scores = pd.read_csv('summary_score.csv', index_col=0)\n",
    "sample = pd.read_csv('sample.csv', index_col=0)\n",
    "sample_df = sample[sample['event'] != 'No']"
   ]
  },
  {
   "cell_type": "code",
   "execution_count": null,
   "id": "c0bd7b1e-e85f-40a9-b55a-2c371ce695a3",
   "metadata": {},
   "outputs": [],
   "source": [
    "events_df = pd.merge(events, summary, left_on='eventId', right_on='hit_eventId', how='inner')"
   ]
  },
  {
   "cell_type": "code",
   "execution_count": null,
   "id": "6ea51cef-98c1-4e4a-bf01-91aefb92a187",
   "metadata": {},
   "outputs": [],
   "source": [
    "new_column_names = {\n",
    "    'time': 'time_hit',\n",
    "    'head': 'head_hit',\n",
    "    'handle': 'handle_hit',\n",
    "}"
   ]
  },
  {
   "cell_type": "code",
   "execution_count": null,
   "id": "eace591c-b6b1-4020-a0db-1b9b00e55b82",
   "metadata": {},
   "outputs": [],
   "source": [
    "events_df2 = pd.merge(events_df, bat, on='pitch_eventId', how='inner')\n",
    "df = events_df2.rename(columns=new_column_names)"
   ]
  },
  {
   "cell_type": "code",
   "execution_count": null,
   "id": "806ffeb7-2694-409e-a6ee-5fa64f13e99f",
   "metadata": {},
   "outputs": [],
   "source": [
    "main_df = pd.merge(df, sample_df, on='pitch_eventId', how='inner')"
   ]
  },
  {
   "cell_type": "code",
   "execution_count": null,
   "id": "ee54a0c3-bdde-45c8-8969-158162ff9031",
   "metadata": {},
   "outputs": [],
   "source": [
    "df = pd.merge(main_df, scores, on='pitch_eventId', how='inner')"
   ]
  },
  {
   "cell_type": "code",
   "execution_count": null,
   "id": "5dfa6e1e-2bdc-4f1f-9e9d-17c7db554205",
   "metadata": {},
   "outputs": [],
   "source": [
    "def euclidean_distance(pos1, pos2):\n",
    "    return sqrt(sum((p1 - p2) ** 2 for p1, p2 in zip(pos1, pos2)))\n",
    "\n",
    "def calculate_sweet_spot(head_positions, handle_positions, distance=0.5):\n",
    "    head_positions = np.array(head_positions)\n",
    "    handle_positions = np.array(handle_positions)\n",
    "    vectors = head_positions - handle_positions\n",
    "    unit_vectors = vectors / np.linalg.norm(vectors, axis=1)[:, np.newaxis]\n",
    "    sweet_spot_positions = head_positions - distance * unit_vectors\n",
    "    return sweet_spot_positions.tolist()\n",
    "\n",
    "def calculate_total_distance(row, time_hit, target_time=0.25, distance=0.5):\n",
    "    total_distance = 0\n",
    "    try:\n",
    "        events = ast.literal_eval(row['total_bat'])\n",
    "    except (ValueError, SyntaxError):\n",
    "        print(\"Error evaluating row:\", row['total_bat'])\n",
    "        return None\n",
    "\n",
    "    head_positions = [event.get('head', {}).get('pos') for event in events if 'head' in event]\n",
    "    handle_positions = [event.get('handle', {}).get('pos') for event in events if 'handle' in event]\n",
    "    sweet_spot_positions = calculate_sweet_spot(head_positions, handle_positions, distance)\n",
    "\n",
    "    closest_to_target_index = min(\n",
    "        range(len(events)),\n",
    "        key=lambda i: abs(events[i].get('time', float('inf')) - target_time),\n",
    "        default=None\n",
    "    )\n",
    "\n",
    "    last_pos = None\n",
    "    if closest_to_target_index is not None:\n",
    "        for i, event in enumerate(events[closest_to_target_index:], start=closest_to_target_index):\n",
    "            current_pos = sweet_spot_positions[i]\n",
    "            if current_pos and last_pos:\n",
    "                total_distance += euclidean_distance(last_pos, current_pos)\n",
    "            last_pos = current_pos\n",
    "            if event.get('time') >= time_hit:\n",
    "                break\n",
    "\n",
    "    return total_distance\n",
    "\n",
    "\n",
    "df['swing_length'] = df.apply(lambda row: calculate_total_distance(row, row['time_hit']), axis=1)"
   ]
  },
  {
   "cell_type": "code",
   "execution_count": null,
   "id": "0a5b0b0c-6db2-4d98-8572-126bc4cd6cf1",
   "metadata": {},
   "outputs": [],
   "source": [
    "df['bat_speed'] = (df['hit_speed_mph'] -(0.2*df['pitch_speed_mph']))/1.2"
   ]
  }
 ],
 "metadata": {
  "kernelspec": {
   "display_name": "Python 3 (ipykernel)",
   "language": "python",
   "name": "python3"
  },
  "language_info": {
   "codemirror_mode": {
    "name": "ipython",
    "version": 3
   },
   "file_extension": ".py",
   "mimetype": "text/x-python",
   "name": "python",
   "nbconvert_exporter": "python",
   "pygments_lexer": "ipython3",
   "version": "3.7.9"
  }
 },
 "nbformat": 4,
 "nbformat_minor": 5
}
